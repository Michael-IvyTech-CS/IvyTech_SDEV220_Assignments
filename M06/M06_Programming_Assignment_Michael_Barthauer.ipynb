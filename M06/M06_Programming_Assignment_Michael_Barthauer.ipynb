{
 "cells": [
  {
   "cell_type": "code",
   "execution_count": 2,
   "metadata": {},
   "outputs": [],
   "source": [
    "# 13.1\n",
    "from datetime import date\n",
    "f = open(\"today.txt\", 'w')\n",
    "f.write(date.today().isoformat())\n",
    "f.close()"
   ]
  },
  {
   "cell_type": "code",
   "execution_count": 3,
   "metadata": {},
   "outputs": [],
   "source": [
    "# 13.2\n",
    "f = open(\"today.txt\", 'r')\n",
    "today_string = f.read().strip()\n",
    "f.close()"
   ]
  },
  {
   "cell_type": "code",
   "execution_count": 5,
   "metadata": {},
   "outputs": [
    {
     "name": "stdout",
     "output_type": "stream",
     "text": [
      "Today's date is 09/27/2023.\n"
     ]
    }
   ],
   "source": [
    "# 13.3\n",
    "today_tuple = tuple(today_string.split('-'))\n",
    "year = today_tuple[0]\n",
    "month = today_tuple[1]\n",
    "day = today_tuple[2]\n",
    "print(f\"Today's date is {month}/{day}/{year}.\")"
   ]
  },
  {
   "cell_type": "code",
   "execution_count": 26,
   "metadata": {},
   "outputs": [],
   "source": [
    "# 15.1\n",
    "import multiprocessing\n",
    "import time\n",
    "import random\n",
    "\n",
    "\n",
    "def print_time():\n",
    "    \"\"\"Prints the current time in hour:minute:second format.\"\"\"\n",
    "    time.sleep(random.randrange(0, 2))\n",
    "    h = time.localtime().tm_hour\n",
    "    m = time.localtime().tm_min\n",
    "    s = time.localtime().tm_sec\n",
    "    print(f\"The time is {h}:{m}:{s}\")\n",
    "\n",
    "\n",
    "if __name__ == \"__main__\":\n",
    "    p1 = multiprocessing.Process(target=print_time, args=())\n",
    "    p2 = multiprocessing.Process(target=print_time, args=())\n",
    "    p3 = multiprocessing.Process(target=print_time, args=())\n",
    "\n",
    "    p1.start()\n",
    "    p2.start()\n",
    "    p3.start()\n"
   ]
  }
 ],
 "metadata": {
  "kernelspec": {
   "display_name": "base",
   "language": "python",
   "name": "python3"
  },
  "language_info": {
   "codemirror_mode": {
    "name": "ipython",
    "version": 3
   },
   "file_extension": ".py",
   "mimetype": "text/x-python",
   "name": "python",
   "nbconvert_exporter": "python",
   "pygments_lexer": "ipython3",
   "version": "3.11.4"
  },
  "orig_nbformat": 4
 },
 "nbformat": 4,
 "nbformat_minor": 2
}
