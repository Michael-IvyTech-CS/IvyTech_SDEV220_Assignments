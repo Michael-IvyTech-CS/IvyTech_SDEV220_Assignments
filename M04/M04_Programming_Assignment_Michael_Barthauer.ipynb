{
 "cells": [
  {
   "cell_type": "code",
   "execution_count": 1,
   "metadata": {},
   "outputs": [
    {
     "name": "stdout",
     "output_type": "stream",
     "text": [
      "Open 9-5 daily\n"
     ]
    }
   ],
   "source": [
    "# 11.1\n",
    "import zoo\n",
    "zoo.hours()"
   ]
  },
  {
   "cell_type": "code",
   "execution_count": 2,
   "metadata": {},
   "outputs": [
    {
     "name": "stdout",
     "output_type": "stream",
     "text": [
      "Open 9-5 daily\n"
     ]
    }
   ],
   "source": [
    "# 11.2\n",
    "import zoo as menagerie\n",
    "menagerie.hours()"
   ]
  },
  {
   "cell_type": "code",
   "execution_count": 11,
   "metadata": {},
   "outputs": [
    {
     "name": "stdout",
     "output_type": "stream",
     "text": [
      "(\"Uncle Tom's Cabin\",)\n",
      "('War and Peace',)\n"
     ]
    }
   ],
   "source": [
    "# 16.8 \n",
    "# I was confused by the assignment not including steps to create the database.\n",
    "# I decided to just include commented lines to create a simple 'books' table with \n",
    "# example books in it so that the program wouldn't yell at me when I tested it.\n",
    "import sqlalchemy as sqla\n",
    "\n",
    "conn = sqla.create_engine('sqlite:///books.db')\n",
    "\n",
    "# if the database already exists, you don't need these lines\n",
    "\"\"\"\n",
    "conn.execute('CREATE TABLE books (title VARCHAR(80), author VARCHAR(80), year INT)')\n",
    "conn.execute('INSERT INTO books (title, author, year) VALUES (?, ?, ?)', \n",
    "             \"War and Peace\", \"Leo Tolstoy\", 1867)\n",
    "conn.execute('INSERT INTO books (title, author, year) VALUES (?, ?, ?)', \n",
    "             \"Uncle Tom's Cabin\", \"Harriet Beecher Stowe\", 1852)\n",
    "\"\"\"\n",
    "titles = conn.execute('SELECT title FROM books ORDER BY title')\n",
    "\n",
    "for title in titles:\n",
    "    print(title)"
   ]
  }
 ],
 "metadata": {
  "kernelspec": {
   "display_name": "base",
   "language": "python",
   "name": "python3"
  },
  "language_info": {
   "codemirror_mode": {
    "name": "ipython",
    "version": 3
   },
   "file_extension": ".py",
   "mimetype": "text/x-python",
   "name": "python",
   "nbconvert_exporter": "python",
   "pygments_lexer": "ipython3",
   "version": "3.11.4"
  },
  "orig_nbformat": 4
 },
 "nbformat": 4,
 "nbformat_minor": 2
}
