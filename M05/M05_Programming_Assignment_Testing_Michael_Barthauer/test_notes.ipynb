{
 "cells": [
  {
   "cell_type": "markdown",
   "metadata": {},
   "source": [
    "Executing Your First Test\n",
    "Couldn't get any of these commands working within Jupyter.\n",
    "(yes, I saw the note on the assignment instructions, thought I'd try anyway).\n",
    "\n",
    "Command variations:\n",
    "Commands assume tests are in test.py or a tests folder.\n",
    "\n",
    "Simple versions:\n",
    "python test.py\n",
    "python -m unittest test\n",
    "\n",
    "Verbose test info:\n",
    "python -m unittest -v test\n",
    "\n",
    "Auto discover tests to run (named test*.py):\n",
    "python -m unittest discover\n",
    "\n",
    "Specify a directory with all of your tests:\n",
    "python -m unittest discover -s tests\n",
    "\n",
    "Additionally, specify the subdirectory that the tests should be executed in:\n",
    "python -m unittest discover -s tests -t subdir\\path\\to\\my_programs"
   ]
  }
 ],
 "metadata": {
  "language_info": {
   "name": "python"
  },
  "orig_nbformat": 4
 },
 "nbformat": 4,
 "nbformat_minor": 2
}
